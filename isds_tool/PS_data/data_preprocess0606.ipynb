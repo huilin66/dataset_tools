{
 "cells": [
  {
   "cell_type": "code",
   "id": "initial_id",
   "metadata": {
    "collapsed": true,
    "ExecuteTime": {
     "end_time": "2025-06-09T01:22:46.517936Z",
     "start_time": "2025-06-09T01:22:45.036161Z"
    }
   },
   "source": [
    "import os\n",
    "import shutil\n",
    "import zipfile\n",
    "from pathlib import Path\n",
    "import pandas as pd\n",
    "from tqdm import tqdm"
   ],
   "outputs": [],
   "execution_count": 1
  },
  {
   "metadata": {
    "ExecuteTime": {
     "end_time": "2025-06-09T01:47:21.462628Z",
     "start_time": "2025-06-09T01:47:21.456629Z"
    }
   },
   "cell_type": "code",
   "source": [
    "\n",
    "root_dir = r'Y:\\ZHL\\isds\\PS\\task0606'\n",
    "merge_dir = os.path.join(root_dir, 'merge_dir')\n",
    "timestamp_gap_num = 158116921"
   ],
   "id": "66b5e22e4f698f00",
   "outputs": [],
   "execution_count": 16
  },
  {
   "metadata": {
    "ExecuteTime": {
     "end_time": "2025-06-09T01:22:46.549495Z",
     "start_time": "2025-06-09T01:22:46.539495Z"
    }
   },
   "cell_type": "code",
   "source": [
    "def uzip_dirs(input_dir):\n",
    "    sub_dirs = os.listdir(input_dir)\n",
    "    for sub_name in sub_dirs:\n",
    "        sub_dir = os.path.join(input_dir, sub_name)\n",
    "        zip_path = os.path.join(sub_dir, 'rectified_image.zip')\n",
    "        if not os.path.exists(zip_path):\n",
    "            print(f'{zip_path} not exists')\n",
    "        else:\n",
    "            print(f'{zip_path} unzip...')\n",
    "            with zipfile.ZipFile(zip_path, 'r') as zip_ref:\n",
    "                zip_ref.extractall(zip_path.replace('.zip', ''))\n",
    "            print(f'{zip_path} done\\n')"
   ],
   "id": "d0e10ae2b84e85fb",
   "outputs": [],
   "execution_count": 3
  },
  {
   "metadata": {
    "ExecuteTime": {
     "end_time": "2025-06-09T01:31:30.499900Z",
     "start_time": "2025-06-09T01:22:46.659909Z"
    }
   },
   "cell_type": "code",
   "source": "uzip_dirs(root_dir)",
   "id": "86d3fd2f37896ee3",
   "outputs": [
    {
     "name": "stdout",
     "output_type": "stream",
     "text": [
      "Y:\\ZHL\\isds\\PS\\task0606\\angle1\\rectified_image.zip unzip...\n",
      "Y:\\ZHL\\isds\\PS\\task0606\\angle1\\rectified_image.zip done\n",
      "\n",
      "Y:\\ZHL\\isds\\PS\\task0606\\angle2\\rectified_image.zip unzip...\n",
      "Y:\\ZHL\\isds\\PS\\task0606\\angle2\\rectified_image.zip done\n",
      "\n",
      "Y:\\ZHL\\isds\\PS\\task0606\\angle3\\rectified_image.zip unzip...\n",
      "Y:\\ZHL\\isds\\PS\\task0606\\angle3\\rectified_image.zip done\n",
      "\n",
      "Y:\\ZHL\\isds\\PS\\task0606\\angle4\\rectified_image.zip unzip...\n",
      "Y:\\ZHL\\isds\\PS\\task0606\\angle4\\rectified_image.zip done\n",
      "\n",
      "Y:\\ZHL\\isds\\PS\\task0606\\angle5\\rectified_image.zip unzip...\n",
      "Y:\\ZHL\\isds\\PS\\task0606\\angle5\\rectified_image.zip done\n",
      "\n",
      "Y:\\ZHL\\isds\\PS\\task0606\\angle6\\rectified_image.zip unzip...\n",
      "Y:\\ZHL\\isds\\PS\\task0606\\angle6\\rectified_image.zip done\n",
      "\n"
     ]
    }
   ],
   "execution_count": 4
  },
  {
   "metadata": {
    "ExecuteTime": {
     "end_time": "2025-06-09T01:31:30.563899Z",
     "start_time": "2025-06-09T01:31:30.550899Z"
    }
   },
   "cell_type": "code",
   "source": [
    "def data_check(input_dir):\n",
    "    sub_dirs = os.listdir(input_dir)\n",
    "    for sub_name in sub_dirs:\n",
    "        sub_dir = os.path.join(input_dir, sub_name)\n",
    "        gps_path = os.path.join(sub_dir, 'gps_data.txt')\n",
    "        images_dir = os.path.join(sub_dir, 'rectified_image', 'rectified_image')\n",
    "        df = pd.read_csv(gps_path, sep=' ')\n",
    "        print(f'{sub_name} with {len(df)} gps rows, {len(os.listdir(images_dir))} images')"
   ],
   "id": "efbdf6d782f48dfb",
   "outputs": [],
   "execution_count": 5
  },
  {
   "metadata": {
    "ExecuteTime": {
     "end_time": "2025-06-09T01:45:31.334019Z",
     "start_time": "2025-06-09T01:45:31.319780Z"
    }
   },
   "cell_type": "code",
   "source": [
    "from img_preprocess import select_img\n",
    "from deduplication_demo import filter_deduplication\n",
    "\n",
    "def process_dirs(input_dir):\n",
    "    sub_dirs = os.listdir(input_dir)\n",
    "    for idx, sub_name in enumerate(sub_dirs):\n",
    "        if idx<5:\n",
    "            continue\n",
    "        sub_dir = os.path.join(input_dir, sub_name)\n",
    "        image_dir_src = os.path.join(sub_dir, 'rectified_image', 'rectified_image')\n",
    "        if not os.path.exists(image_dir_src):\n",
    "            print(f'{image_dir_src} not exists')\n",
    "        else:\n",
    "            print(f'{image_dir_src} selecting...')\n",
    "            image_dir_select = os.path.join(sub_dir, 'rectified_image_select')\n",
    "            select_img(image_dir_src, image_dir_select)\n",
    "            print(f'{image_dir_select} filtering...')\n",
    "            image_dir_filter = os.path.join(sub_dir, 'rectified_image_filter')\n",
    "            filter_deduplication(image_dir_select, image_dir_filter)\n",
    "            print(f'{image_dir_filter} done\\n')"
   ],
   "id": "952ec6ac8c73d40b",
   "outputs": [],
   "execution_count": 14
  },
  {
   "metadata": {
    "ExecuteTime": {
     "end_time": "2025-06-09T01:46:51.651942Z",
     "start_time": "2025-06-09T01:45:31.464984Z"
    }
   },
   "cell_type": "code",
   "source": "process_dirs(root_dir)",
   "id": "2fd0d1a99c554f43",
   "outputs": [
    {
     "name": "stdout",
     "output_type": "stream",
     "text": [
      "Y:\\ZHL\\isds\\PS\\task0606\\angle6\\rectified_image\\rectified_image selecting...\n"
     ]
    },
    {
     "name": "stderr",
     "output_type": "stream",
     "text": [
      "100%|██████████| 815/815 [00:17<00:00, 46.10it/s]\n"
     ]
    },
    {
     "name": "stdout",
     "output_type": "stream",
     "text": [
      "Y:\\ZHL\\isds\\PS\\task0606\\angle6\\rectified_image_select filtering...\n"
     ]
    },
    {
     "name": "stderr",
     "output_type": "stream",
     "text": [
      "100%|██████████| 815/815 [00:59<00:00, 13.73it/s]\n"
     ]
    },
    {
     "name": "stdout",
     "output_type": "stream",
     "text": [
      "Copied: cam_300deg_20200523100113000.jpg (Max similarity: 0.44)\n",
      "Copied: cam_300deg_20200523100116000.jpg (Max similarity: 0.47)\n",
      "Copied: cam_300deg_20200523100117000.jpg (Max similarity: 0.42)\n",
      "Copied: cam_300deg_20200523100118000.jpg (Max similarity: 0.42)\n",
      "Copied: cam_300deg_20200523100118999.jpg (Max similarity: 0.45)\n",
      "Copied: cam_300deg_20200523100120000.jpg (Max similarity: 0.45)\n",
      "Copied: cam_300deg_20200523100121000.jpg (Max similarity: 0.46)\n",
      "Copied: cam_300deg_20200523100126999.jpg (Max similarity: 0.49)\n",
      "Copied: cam_300deg_20200523100128000.jpg (Max similarity: 0.48)\n",
      "Copied: cam_300deg_20200523100129000.jpg (Max similarity: 0.48)\n",
      "Copied: cam_300deg_20200523100129999.jpg (Max similarity: 0.49)\n",
      "Copied: cam_300deg_20200523100131000.jpg (Max similarity: 0.49)\n",
      "Copied: cam_300deg_20200523100132000.jpg (Max similarity: 0.49)\n",
      "Copied: cam_300deg_20200523100133000.jpg (Max similarity: 0.46)\n",
      "Copied: cam_300deg_20200523100133999.jpg (Max similarity: 0.47)\n",
      "Copied: cam_300deg_20200523100139000.jpg (Max similarity: 0.50)\n",
      "Copied: cam_300deg_20200523100139999.jpg (Max similarity: 0.48)\n",
      "Copied: cam_300deg_20200523100141000.jpg (Max similarity: 0.50)\n",
      "Copied: cam_300deg_20200523100149000.jpg (Max similarity: 0.46)\n",
      "Copied: cam_300deg_20200523100149999.jpg (Max similarity: 0.46)\n",
      "Copied: cam_300deg_20200523100151000.jpg (Max similarity: 0.45)\n",
      "Copied: cam_300deg_20200523100152000.jpg (Max similarity: 0.46)\n",
      "Copied: cam_300deg_20200523100155999.jpg (Max similarity: 0.50)\n",
      "Copied: cam_300deg_20200523100515999.jpg (Max similarity: 0.46)\n",
      "Copied: cam_300deg_20200523100517000.jpg (Max similarity: 0.50)\n",
      "Copied: cam_300deg_20200523100518000.jpg (Max similarity: 0.50)\n",
      "Copied: cam_300deg_20200523100646000.jpg (Max similarity: 0.49)\n",
      "Copied: cam_300deg_20200523100647000.jpg (Max similarity: 0.48)\n",
      "Copied: cam_300deg_20200523100647999.jpg (Max similarity: 0.42)\n",
      "Copied: cam_300deg_20200523100649000.jpg (Max similarity: 0.41)\n",
      "Copied: cam_300deg_20200523100650000.jpg (Max similarity: 0.46)\n",
      "Copied: cam_300deg_20200523100827000.jpg (Max similarity: 0.48)\n",
      "Copied: cam_300deg_20200523100828000.jpg (Max similarity: 0.47)\n",
      "Copied: cam_300deg_20200523100829000.jpg (Max similarity: 0.47)\n",
      "Copied: cam_300deg_20200523100830000.jpg (Max similarity: 0.47)\n",
      "Copied: cam_300deg_20200523100830999.jpg (Max similarity: 0.43)\n",
      "Copied: cam_300deg_20200523100832000.jpg (Max similarity: 0.40)\n",
      "Copied: cam_300deg_20200523100833000.jpg (Max similarity: 0.45)\n",
      "Copied: cam_300deg_20200523100833999.jpg (Max similarity: 0.49)\n",
      "Copied: cam_300deg_20200523100835000.jpg (Max similarity: 0.50)\n",
      "Copied: cam_300deg_20200523100925000.jpg (Max similarity: 0.49)\n",
      "Copied: cam_300deg_20200523100926000.jpg (Max similarity: 0.48)\n",
      "Copied: cam_300deg_20200523100927000.jpg (Max similarity: 0.43)\n",
      "Copied: cam_300deg_20200523100927999.jpg (Max similarity: 0.47)\n",
      "Copied: cam_300deg_20200523100929000.jpg (Max similarity: 0.47)\n",
      "Copied: cam_300deg_20200523100936000.jpg (Max similarity: 0.46)\n",
      "Copied: cam_300deg_20200523100936999.jpg (Max similarity: 0.44)\n",
      "Copied: cam_300deg_20200523100938000.jpg (Max similarity: 0.46)\n",
      "Copied: cam_300deg_20200523100939000.jpg (Max similarity: 0.46)\n",
      "Copied: cam_300deg_20200523100952000.jpg (Max similarity: 0.47)\n",
      "Copied: cam_300deg_20200523100952999.jpg (Max similarity: 0.46)\n",
      "Copied: cam_300deg_20200523100954000.jpg (Max similarity: 0.47)\n",
      "Copied: cam_300deg_20200523100955000.jpg (Max similarity: 0.48)\n",
      "Copied: cam_300deg_20200523101000000.jpg (Max similarity: 0.47)\n",
      "Copied: cam_300deg_20200523101001000.jpg (Max similarity: 0.49)\n",
      "Copied: cam_300deg_20200523101001999.jpg (Max similarity: 0.49)\n",
      "Copied: cam_300deg_20200523101003000.jpg (Max similarity: 0.44)\n",
      "Copied: cam_300deg_20200523101004000.jpg (Max similarity: 0.35)\n",
      "Copied: cam_300deg_20200523101004999.jpg (Max similarity: 0.38)\n",
      "Copied: cam_300deg_20200523101006000.jpg (Max similarity: 0.40)\n",
      "Copied: cam_300deg_20200523101007000.jpg (Max similarity: 0.40)\n",
      "Copied: cam_300deg_20200523101008000.jpg (Max similarity: 0.41)\n",
      "Copied: cam_300deg_20200523101009000.jpg (Max similarity: 0.46)\n",
      "Copied: cam_300deg_20200523101009999.jpg (Max similarity: 0.48)\n",
      "Copied: cam_300deg_20200523101011000.jpg (Max similarity: 0.50)\n",
      "Copied: cam_300deg_20200523101016999.jpg (Max similarity: 0.49)\n",
      "Copied: cam_300deg_20200523101017999.jpg (Max similarity: 0.44)\n",
      "Copied: cam_300deg_20200523101019000.jpg (Max similarity: 0.41)\n",
      "Copied: cam_300deg_20200523101020000.jpg (Max similarity: 0.41)\n",
      "Copied: cam_300deg_20200523101021000.jpg (Max similarity: 0.45)\n",
      "Copied: cam_300deg_20200523101021999.jpg (Max similarity: 0.45)\n",
      "Copied: cam_300deg_20200523101023000.jpg (Max similarity: 0.45)\n",
      "Copied: cam_300deg_20200523101024000.jpg (Max similarity: 0.44)\n",
      "Copied: cam_300deg_20200523101025000.jpg (Max similarity: 0.44)\n",
      "Copied: cam_300deg_20200523101025999.jpg (Max similarity: 0.41)\n",
      "Copied: cam_300deg_20200523101026999.jpg (Max similarity: 0.41)\n",
      "Copied: cam_300deg_20200523101027999.jpg (Max similarity: 0.46)\n",
      "Copied: cam_300deg_20200523101032000.jpg (Max similarity: 0.48)\n",
      "Copied: cam_300deg_20200523101112000.jpg (Max similarity: 0.48)\n",
      "Copied: cam_300deg_20200523101113000.jpg (Max similarity: 0.47)\n",
      "Copied: cam_300deg_20200523101116999.jpg (Max similarity: 0.49)\n",
      "Copied: cam_300deg_20200523101122000.jpg (Max similarity: 0.49)\n",
      "Copied: cam_300deg_20200523101123000.jpg (Max similarity: 0.48)\n",
      "Copied: cam_300deg_20200523101124000.jpg (Max similarity: 0.48)\n",
      "Copied: cam_300deg_20200523101124999.jpg (Max similarity: 0.48)\n",
      "Copied: cam_300deg_20200523101125999.jpg (Max similarity: 0.48)\n",
      "Copied: cam_300deg_20200523101129000.jpg (Max similarity: 0.50)\n",
      "Copied: cam_300deg_20200523101129999.jpg (Max similarity: 0.47)\n",
      "Copied: cam_300deg_20200523101131000.jpg (Max similarity: 0.47)\n",
      "Copied: cam_300deg_20200523101132000.jpg (Max similarity: 0.49)\n",
      "Copied: cam_300deg_20200523101134999.jpg (Max similarity: 0.45)\n",
      "Copied: cam_300deg_20200523101136000.jpg (Max similarity: 0.44)\n",
      "Copied: cam_300deg_20200523101137000.jpg (Max similarity: 0.49)\n",
      "Copied: cam_300deg_20200523101146000.jpg (Max similarity: 0.47)\n",
      "Copied: cam_300deg_20200523101147000.jpg (Max similarity: 0.47)\n",
      "Copied: cam_300deg_20200523101148000.jpg (Max similarity: 0.50)\n",
      "Copied: cam_300deg_20200523101409999.jpg (Max similarity: 0.50)\n",
      "Copied: cam_300deg_20200523101411000.jpg (Max similarity: 0.48)\n",
      "Copied: cam_300deg_20200523101412000.jpg (Max similarity: 0.50)\n",
      "Copied: cam_300deg_20200523101415000.jpg (Max similarity: 0.49)\n",
      "Copied: cam_300deg_20200523101415999.jpg (Max similarity: 0.47)\n",
      "\n",
      "Total unique images copied: 101\n",
      "Y:\\ZHL\\isds\\PS\\task0606\\angle6\\rectified_image_filter done\n",
      "\n"
     ]
    }
   ],
   "execution_count": 15
  },
  {
   "metadata": {
    "ExecuteTime": {
     "end_time": "2025-06-09T01:48:08.661628Z",
     "start_time": "2025-06-09T01:48:08.647629Z"
    }
   },
   "cell_type": "code",
   "source": [
    "def img_merge(input_dir, output_dir):\n",
    "    sub_dirs = os.listdir(input_dir)\n",
    "    if 'merge_dir' in sub_dirs:\n",
    "        sub_dirs.remove('merge_dir')\n",
    "    os.makedirs(output_dir, exist_ok=True)\n",
    "    for sub_name in sub_dirs:\n",
    "        sub_dir = os.path.join(input_dir, sub_name)\n",
    "        image_dir_src = os.path.join(sub_dir, 'rectified_image_filter')\n",
    "        if not os.path.exists(image_dir_src):\n",
    "            print(f'{image_dir_src} not exists')\n",
    "        else:\n",
    "            img_list = os.listdir(image_dir_src)\n",
    "            for img_name in tqdm(img_list):\n",
    "                img_path_src = os.path.join(image_dir_src, img_name)\n",
    "                img_path_dst = os.path.join(output_dir, img_name)\n",
    "                shutil.copyfile(img_path_src, img_path_dst)\n",
    "    \n"
   ],
   "id": "18c4ff0bf3946ff8",
   "outputs": [],
   "execution_count": 19
  },
  {
   "metadata": {
    "ExecuteTime": {
     "end_time": "2025-06-09T01:48:37.188486Z",
     "start_time": "2025-06-09T01:48:08.850975Z"
    }
   },
   "cell_type": "code",
   "source": "img_merge(root_dir, merge_dir)",
   "id": "3c58788494214609",
   "outputs": [
    {
     "name": "stderr",
     "output_type": "stream",
     "text": [
      "100%|██████████| 259/259 [00:05<00:00, 44.57it/s]\n",
      "100%|██████████| 217/217 [00:05<00:00, 41.28it/s]\n",
      "100%|██████████| 191/191 [00:04<00:00, 40.52it/s]\n",
      "100%|██████████| 287/287 [00:07<00:00, 38.70it/s]\n",
      "100%|██████████| 92/92 [00:02<00:00, 37.34it/s]\n",
      "100%|██████████| 101/101 [00:02<00:00, 38.44it/s]\n"
     ]
    }
   ],
   "execution_count": 20
  },
  {
   "metadata": {},
   "cell_type": "code",
   "source": "",
   "id": "79132c42ffed53ba",
   "outputs": [],
   "execution_count": null
  }
 ],
 "metadata": {
  "kernelspec": {
   "display_name": "Python 3",
   "language": "python",
   "name": "python3"
  },
  "language_info": {
   "codemirror_mode": {
    "name": "ipython",
    "version": 2
   },
   "file_extension": ".py",
   "mimetype": "text/x-python",
   "name": "python",
   "nbconvert_exporter": "python",
   "pygments_lexer": "ipython2",
   "version": "2.7.6"
  }
 },
 "nbformat": 4,
 "nbformat_minor": 5
}
