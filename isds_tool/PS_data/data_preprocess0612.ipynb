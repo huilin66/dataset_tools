{
 "cells": [
  {
   "metadata": {},
   "cell_type": "code",
   "outputs": [],
   "execution_count": null,
   "source": [
    "import os\n",
    "import shutil\n",
    "import zipfile\n",
    "from pathlib import Path\n",
    "import pandas as pd\n",
    "from tqdm import tqdm"
   ],
   "id": "52c699ab4a8a6089"
  },
  {
   "metadata": {},
   "cell_type": "code",
   "outputs": [],
   "execution_count": null,
   "source": [
    "\n",
    "root_dir = r'Y:\\ZHL\\isds\\PS\\task0612'\n",
    "merge_dir = os.path.join(root_dir, 'merge_dir')\n",
    "timestamp_gap_num = 158116921"
   ],
   "id": "ef8324063e68f8cc"
  },
  {
   "metadata": {},
   "cell_type": "code",
   "outputs": [],
   "execution_count": null,
   "source": [
    "def uzip_dirs(input_dir):\n",
    "    zip_list = os.listdir(input_dir)\n",
    "    for zip_name in zip_list:\n",
    "        zip_path = os.path.join(input_dir, zip_name)\n",
    "        if not os.path.exists(zip_path):\n",
    "            print(f'{zip_path} not exists')\n",
    "        else:\n",
    "            print(f'{zip_path} unzip...')\n",
    "            with zipfile.ZipFile(zip_path, 'r') as zip_ref:\n",
    "                zip_ref.extractall(zip_path.replace('.zip', ''))\n",
    "            print(f'{zip_path} done\\n')"
   ],
   "id": "6410b0994e60084b"
  },
  {
   "metadata": {},
   "cell_type": "code",
   "outputs": [],
   "execution_count": null,
   "source": "uzip_dirs(root_dir)",
   "id": "83038e3d8f338e6a"
  },
  {
   "metadata": {},
   "cell_type": "code",
   "outputs": [],
   "execution_count": null,
   "source": "print(os.path.exists(r'Y:\\ZHL'))",
   "id": "98aaeb1046ba2f0b"
  },
  {
   "metadata": {},
   "cell_type": "code",
   "outputs": [],
   "execution_count": null,
   "source": [
    "from img_preprocess import select_img\n",
    "from deduplication_demo import filter_deduplication\n",
    "\n",
    "def process_dirs(input_dir):\n",
    "    sub_dirs = os.listdir(input_dir)\n",
    "    for idx, sub_name in enumerate(sub_dirs):\n",
    "        sub_dir = os.path.join(input_dir, sub_name)\n",
    "        if not os.path.isdir(sub_dir):\n",
    "            continue\n",
    "        sub_dir = os.path.join(sub_dir, sub_name)\n",
    "        cam_name_list = ['cam_DA4930148', 'cam_DA5148680', 'cam_DA5148683', 'cam_DA5324645', 'cam_DA5324655', 'cam_DA6102933']\n",
    "        for cam_name in cam_name_list:\n",
    "            image_dir_src = os.path.join(sub_dir, 'rectified_image', cam_name)\n",
    "            if not os.path.exists(image_dir_src):\n",
    "                print(f'{image_dir_src} not exists')\n",
    "            else:\n",
    "                print(f'{image_dir_src} selecting...')\n",
    "                image_dir_select = image_dir_src+'_select'\n",
    "                select_img(image_dir_src, image_dir_select)\n",
    "                print(f'{image_dir_select} filtering...')\n",
    "                image_dir_filter = image_dir_src+'_filter'\n",
    "                filter_deduplication(image_dir_select, image_dir_filter)\n",
    "                print(f'{image_dir_filter} done\\n')"
   ],
   "id": "bc2d79a55c5b66e5"
  },
  {
   "metadata": {},
   "cell_type": "code",
   "outputs": [],
   "execution_count": null,
   "source": "process_dirs(root_dir)",
   "id": "e8f207d4ca6f56c"
  },
  {
   "metadata": {},
   "cell_type": "code",
   "outputs": [],
   "execution_count": null,
   "source": [
    "def img_merge(input_dir, output_dir):\n",
    "    sub_dirs = os.listdir(input_dir)\n",
    "    if 'merge_dir' in sub_dirs:\n",
    "        sub_dirs.remove('merge_dir')\n",
    "    os.makedirs(output_dir, exist_ok=True)\n",
    "    for sub_name in sub_dirs:\n",
    "        sub_dir = os.path.join(input_dir, sub_name)\n",
    "        image_dir_src = os.path.join(sub_dir, 'rectified_image_filter')\n",
    "        if not os.path.exists(image_dir_src):\n",
    "            print(f'{image_dir_src} not exists')\n",
    "        else:\n",
    "            img_list = os.listdir(image_dir_src)\n",
    "            for img_name in tqdm(img_list):\n",
    "                img_path_src = os.path.join(image_dir_src, img_name)\n",
    "                img_path_dst = os.path.join(output_dir, img_name)\n",
    "                shutil.copyfile(img_path_src, img_path_dst)\n",
    "    \n"
   ],
   "id": "bfbf5feec9eb9dfa"
  },
  {
   "metadata": {},
   "cell_type": "code",
   "outputs": [],
   "execution_count": null,
   "source": "img_merge(root_dir, merge_dir)",
   "id": "437f1090483c090e"
  },
  {
   "metadata": {},
   "cell_type": "code",
   "outputs": [],
   "execution_count": null,
   "source": "",
   "id": "bad8781997e9d271"
  }
 ],
 "metadata": {},
 "nbformat": 4,
 "nbformat_minor": 5
}
