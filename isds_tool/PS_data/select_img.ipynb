{
 "cells": [
  {
   "metadata": {},
   "cell_type": "code",
   "outputs": [],
   "execution_count": null,
   "source": [
    "%load_ext autoreload\n",
    "%autoreload 2"
   ],
   "id": "480bd49562c313b2"
  },
  {
   "metadata": {},
   "cell_type": "code",
   "outputs": [],
   "execution_count": null,
   "source": [
    "import os\n",
    "import shutil\n",
    "from tqdm import tqdm"
   ],
   "id": "fd1ad2d054bcfebf"
  },
  {
   "metadata": {},
   "cell_type": "code",
   "outputs": [],
   "execution_count": null,
   "source": [
    "root_dir = r'Y:'\n",
    "print(os.path.exists(root_dir))"
   ],
   "id": "d94c2523525db73e"
  },
  {
   "metadata": {},
   "cell_type": "code",
   "outputs": [],
   "execution_count": null,
   "source": [
    "root_dir = r'Y:\\ZHL\\isds\\PS\\task0619\\Kowloon_2025-06-18-14-17-23\\Kowloon_2025-06-18-14-17-23\\out\\rectified_images'\n",
    "select_dir = r'Y:\\ZHL\\isds\\PS\\task0619\\Kowloon_2025-06-18-14-17-23\\Kowloon_2025-06-18-14-17-23\\out\\rectified_images_select'"
   ],
   "id": "38ae8f9d55a75f42"
  },
  {
   "metadata": {},
   "cell_type": "code",
   "outputs": [],
   "execution_count": null,
   "source": [
    "sub_dirs = os.listdir(root_dir)\n",
    "sub_dir0_path = os.path.join(root_dir, sub_dirs[0])\n",
    "img_list = os.listdir(sub_dir0_path)\n",
    "\n",
    "for img_name in tqdm(img_list):\n",
    "    for sub_dir in sub_dirs:\n",
    "        sub_path = os.path.join(root_dir, sub_dir, img_name)\n",
    "        if os.path.exists(sub_path):\n",
    "            continue\n",
    "        else:\n",
    "            print(sub_path, 'not exists')"
   ],
   "id": "5de01000f11d87fd"
  },
  {
   "metadata": {},
   "cell_type": "code",
   "outputs": [],
   "execution_count": null,
   "source": [
    "copy_list = img_list[2000:3000]\n",
    "for img_name in tqdm(copy_list):\n",
    "    for sub_dir in sub_dirs:\n",
    "        src_path = os.path.join(root_dir, sub_dir, img_name)\n",
    "        dst_path = os.path.join(select_dir, sub_dir, img_name)\n",
    "        os.makedirs(os.path.dirname(dst_path), exist_ok=True)\n",
    "        shutil.copy(src_path, dst_path)"
   ],
   "id": "c8a323ed3e7396db"
  },
  {
   "metadata": {},
   "cell_type": "code",
   "outputs": [],
   "execution_count": null,
   "source": "",
   "id": "6a17f734ebfebd4c"
  }
 ],
 "metadata": {},
 "nbformat": 4,
 "nbformat_minor": 5
}
