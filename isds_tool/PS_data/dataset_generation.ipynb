{
 "cells": [
  {
   "cell_type": "code",
   "id": "d1495cf87afacd05",
   "metadata": {},
   "source": [
    "import shutil\n",
    "%load_ext autoreload\n",
    "%autoreload 2"
   ],
   "outputs": [],
   "execution_count": null
  },
  {
   "cell_type": "code",
   "id": "initial_id",
   "metadata": {},
   "source": [
    "import os\n",
    "import shutil\n",
    "from yolo_tools import mseg_class_update, mseg2seg, random_select, ref_split, data_merge, seg_filter_and_remove, data_check\n",
    "\n",
    "from yolo_mask_crop import myolo_crop\n",
    "from classify_tools import ref_split_class\n",
    "from yolo_sta import yolo_sta\n",
    "from select_defect_data import obj_record, select_by_predict\n",
    "from yolo_result_analysis import model_pred_compare\n"
   ],
   "outputs": [],
   "execution_count": null
  },
  {
   "cell_type": "code",
   "id": "3660c8385d3f4735",
   "metadata": {},
   "source": [
    "defect_list = ['abandonment', 'broken', 'corrosion', 'deformation']\n",
    "level_list = ['no', 'medium', 'high']\n",
    "\n",
    "ps_src_dir = r'/localnvme/data/billboard/ps_data/yolo'\n",
    "ps_dir = r'/localnvme/data/billboard/ps_data/psdata735'\n",
    "ps_seg_dir = ps_dir + '_seg'\n",
    "ps_seg_c6_dir = ps_dir + '_seg_c6'\n",
    "ps_mseg_dir = ps_dir + '_mseg'\n",
    "ps_mseg_c6_dir = ps_dir + '_mseg_c6'\n",
    "ps_mseg_c6_update_dir = ps_dir + '_mseg_c6_update'\n",
    "\n",
    "\n",
    "bd_seg_c6_dir = r'/localnvme/data/billboard/bd_data/data626_seg_c6'\n",
    "bd_mseg_c6_dir = r'/localnvme/data/billboard/bd_data/data626_mseg_c6'\n",
    "bd_mseg_c6_update_dir = r'/localnvme/data/billboard/bd_data/data626_mseg_c6_update'\n",
    "\n",
    "fuse_seg_c6_dir = r'/localnvme/data/billboard/fused_data/data1361_seg_c6'\n",
    "fuse_mseg_c6_dir = r'/localnvme/data/billboard/fused_data/data1361_mseg_c6'\n",
    "fuse_mseg_c6_update_dir = r'/localnvme/data/billboard/fused_data/data1361_mseg_c6_update'"
   ],
   "outputs": [],
   "execution_count": null
  },
  {
   "cell_type": "code",
   "id": "b880a0a71bf48cf7",
   "metadata": {},
   "source": [
    "if os.path.exists(ps_src_dir):\n",
    "    os.rename(ps_src_dir, ps_mseg_dir)\n",
    "mseg_class_update(ps_mseg_dir, ps_mseg_c6_dir)\n",
    "mseg2seg(ps_mseg_c6_dir, ps_seg_c6_dir)\n",
    "\n",
    "random_select(ps_mseg_c6_dir)\n",
    "random_select(ps_seg_c6_dir)"
   ],
   "outputs": [],
   "execution_count": null
  },
  {
   "cell_type": "code",
   "id": "6b5e6d0078f2d42b",
   "metadata": {},
   "source": [
    "check_result_ps = data_check(ps_seg_c6_dir)\n",
    "check_result_bd = data_check(bd_seg_c6_dir)\n",
    "\n",
    "if len(check_result_ps+check_result_bd) == 0:\n",
    "    data_merge(ps_seg_c6_dir,\n",
    "               bd_seg_c6_dir,\n",
    "               fuse_seg_c6_dir)\n",
    "else:\n",
    "    print(f'find {check_result_ps} and {check_result_bd}')"
   ],
   "outputs": [],
   "execution_count": null
  },
  {
   "cell_type": "code",
   "id": "a44ee12f0e0378b7",
   "metadata": {},
   "source": [
    "seg_filter_and_remove(\n",
    "    input_dir=ps_mseg_c6_dir,\n",
    "    output_dir=ps_mseg_c6_update_dir,\n",
    "    remove_class=6,\n",
    "    cp_img=True,\n",
    "    threshold=0.01,\n",
    "    class_list=[1,3,5],\n",
    "    with_attribute=True\n",
    ")"
   ],
   "outputs": [],
   "execution_count": null
  },
  {
   "cell_type": "code",
   "id": "55902a99e61e782f",
   "metadata": {},
   "source": [
    "ref_split(\n",
    "    ref_path = os.path.join(ps_mseg_c6_dir, 'val.txt'),\n",
    "    img_dir = os.path.join(ps_mseg_c6_update_dir, 'images'),\n",
    "    label_dir = os.path.join(ps_mseg_c6_update_dir, 'labels'),\n",
    "    add_suffix='',\n",
    ")"
   ],
   "outputs": [],
   "execution_count": null
  },
  {
   "cell_type": "code",
   "id": "6080fbbe03de1f22",
   "metadata": {},
   "source": [
    "attribute_path = os.path.join(bd_mseg_c6_dir, 'attribute.yaml')\n",
    "check_result_ps1 = data_check(ps_mseg_c6_dir, mdet=True, attribute_path=attribute_path)\n",
    "check_result_bd1 = data_check(bd_mseg_c6_dir, mdet=True, attribute_path=attribute_path)\n",
    "check_result_ps2 = data_check(ps_mseg_c6_dir, mdet=True, attribute_path=attribute_path, check_item='attribute')\n",
    "check_result_bd2 = data_check(bd_mseg_c6_dir, mdet=True, attribute_path=attribute_path, check_item='attribute')\n",
    "\n",
    "if len(check_result_ps1+check_result_bd1 + check_result_ps2+check_result_bd2) == 0:\n",
    "    data_merge(ps_mseg_c6_dir,\n",
    "               bd_mseg_c6_dir,\n",
    "               fuse_mseg_c6_dir)\n",
    "    shutil.copy2(\n",
    "        os.path.join(bd_mseg_c6_dir, 'class.txt'),\n",
    "        os.path.join(fuse_mseg_c6_dir, 'class.txt'),\n",
    "    )\n",
    "    shutil.copy2(\n",
    "        os.path.join(bd_mseg_c6_dir, 'attribute.yaml'),\n",
    "        os.path.join(fuse_mseg_c6_dir, 'attribute.yaml'),\n",
    "    )\n",
    "else:\n",
    "    print(f'find {check_result_ps1} and {check_result_bd1}')\n",
    "    print(f'find {check_result_ps2} and {check_result_bd2}')"
   ],
   "outputs": [],
   "execution_count": null
  },
  {
   "cell_type": "code",
   "id": "6ed4b8aa1093ced7",
   "metadata": {},
   "source": [
    "attribute_path = os.path.join(bd_mseg_c6_dir, 'attribute.yaml')\n",
    "check_result_ps1 = data_check(ps_mseg_c6_update_dir, mdet=True, attribute_path=attribute_path)\n",
    "check_result_bd1 = data_check(bd_mseg_c6_update_dir, mdet=True, attribute_path=attribute_path)\n",
    "check_result_ps2 = data_check(ps_mseg_c6_update_dir, mdet=True, attribute_path=attribute_path, check_item='attribute')\n",
    "check_result_bd2 = data_check(bd_mseg_c6_update_dir, mdet=True, attribute_path=attribute_path, check_item='attribute')\n",
    "\n",
    "if len(check_result_ps1+check_result_bd1 + check_result_ps2+check_result_bd2) == 0:\n",
    "    data_merge(ps_mseg_c6_update_dir,\n",
    "               bd_mseg_c6_update_dir,\n",
    "               fuse_mseg_c6_update_dir)\n",
    "    shutil.copy2(\n",
    "        os.path.join(bd_mseg_c6_update_dir, 'class.txt'),\n",
    "        os.path.join(fuse_mseg_c6_update_dir, 'class.txt'),\n",
    "    )\n",
    "    shutil.copy2(\n",
    "        os.path.join(bd_mseg_c6_update_dir, 'attribute.yaml'),\n",
    "        os.path.join(fuse_mseg_c6_update_dir, 'attribute.yaml'),\n",
    "    )\n",
    "else:\n",
    "    print(f'find {check_result_ps1} and {check_result_bd1}')\n",
    "    print(f'find {check_result_ps2} and {check_result_bd2}')"
   ],
   "outputs": [],
   "execution_count": null
  },
  {
   "cell_type": "code",
   "id": "4bd4c0a2403f21b4",
   "metadata": {},
   "source": [
    "dataset_dir = fuse_mseg_c6_dir\n",
    "image_dir = os.path.join(dataset_dir, 'images')\n",
    "labels_dir = os.path.join(dataset_dir, 'labels')\n",
    "image_crop_dir = os.path.join(dataset_dir, 'images_crop')\n",
    "class_file = os.path.join(dataset_dir, 'class.txt')\n",
    "attribute_file = os.path.join(dataset_dir, 'attribute.yaml')\n",
    "myolo_crop(image_dir, labels_dir, image_crop_dir, class_file,\n",
    "           attribute_file=attribute_file, seg=True, annotation=True,\n",
    "           save_method='attribute',\n",
    "           crop_method='without_background_box_shape')"
   ],
   "outputs": [],
   "execution_count": null
  },
  {
   "cell_type": "code",
   "id": "9e491fc8b2a1e434",
   "metadata": {},
   "source": [
    "dataset_dir = fuse_mseg_c6_update_dir\n",
    "image_dir = os.path.join(dataset_dir, 'images')\n",
    "labels_dir = os.path.join(dataset_dir, 'labels')\n",
    "image_crop_dir = os.path.join(dataset_dir, 'images_crop')\n",
    "class_file = os.path.join(dataset_dir, 'class.txt')\n",
    "attribute_file = os.path.join(dataset_dir, 'attribute.yaml')\n",
    "myolo_crop(image_dir, labels_dir, image_crop_dir, class_file,\n",
    "           attribute_file=attribute_file, seg=True, annotation=True,\n",
    "           save_method='attribute',\n",
    "           crop_method='without_background_box_shape')"
   ],
   "outputs": [],
   "execution_count": null
  },
  {
   "cell_type": "code",
   "id": "46a4c84e083260e9",
   "metadata": {},
   "source": [
    "dataset_dir = fuse_mseg_c6_dir\n",
    "gt_dir=os.path.join(dataset_dir, \"labels\")\n",
    "sta_dir=os.path.join(dataset_dir, \"labels_sta\")\n",
    "class_path=os.path.join(dataset_dir, \"class.txt\")\n",
    "attribute_path=os.path.join(dataset_dir, \"attribute.yaml\")\n",
    "obj2img_path=os.path.join(dataset_dir, \"images_crop.json\")\n",
    "sta_att_path=os.path.join(sta_dir, \"sta_attribute.csv\")\n",
    "box_path=os.path.join(sta_dir, \"sta_box.csv\")\n",
    "info_path=os.path.join(sta_dir, \"info.csv\")"
   ],
   "outputs": [],
   "execution_count": null
  },
  {
   "cell_type": "code",
   "id": "1b778e7a77ee73b4",
   "metadata": {},
   "source": [
    "yolo_sta(\n",
    "    img_dir=None,\n",
    "    gt_dir=gt_dir,\n",
    "    result_dir=sta_dir,\n",
    "    class_path=class_path,\n",
    "    attribute_path=attribute_path,\n",
    "    seg=True,\n",
    ")"
   ],
   "outputs": [],
   "execution_count": null
  },
  {
   "cell_type": "code",
   "id": "4b60e29401bbc2a0",
   "metadata": {},
   "source": [
    "obj_record(sta_att_path, box_path, obj2img_path, info_path)"
   ],
   "outputs": [],
   "execution_count": null
  },
  {
   "cell_type": "code",
   "id": "2a782de45f1e9bb6",
   "metadata": {},
   "source": [
    "dataset_dir = fuse_mseg_c6_update_dir\n",
    "\n",
    "gt_dir=os.path.join(dataset_dir, \"labels\")\n",
    "sta_dir=os.path.join(dataset_dir, \"labels_sta\")\n",
    "class_path=os.path.join(dataset_dir, \"class.txt\")\n",
    "attribute_path=os.path.join(dataset_dir, \"attribute.yaml\")\n",
    "obj2img_path=os.path.join(dataset_dir, \"images_crop.json\")\n",
    "sta_att_path=os.path.join(sta_dir, \"sta_attribute.csv\")\n",
    "box_path=os.path.join(sta_dir, \"sta_box.csv\")\n",
    "info_path=os.path.join(sta_dir, \"info.csv\")"
   ],
   "outputs": [],
   "execution_count": null
  },
  {
   "cell_type": "code",
   "id": "3ef9fdb497c2f5ea",
   "metadata": {},
   "source": [
    "yolo_sta(\n",
    "    img_dir=None,\n",
    "    gt_dir=gt_dir,\n",
    "    result_dir=sta_dir,\n",
    "    class_path=class_path,\n",
    "    attribute_path=attribute_path,\n",
    "    seg=True,\n",
    ")"
   ],
   "outputs": [],
   "execution_count": null
  },
  {
   "cell_type": "code",
   "id": "d892c97821026508",
   "metadata": {},
   "source": [
    "obj_record(sta_att_path, box_path, obj2img_path, info_path)"
   ],
   "outputs": [],
   "execution_count": null
  },
  {
   "cell_type": "code",
   "id": "9394dcabfe5c9b03",
   "metadata": {},
   "source": [
    "dataset_dir = fuse_mseg_c6_dir\n",
    "sta_dir=os.path.join(dataset_dir, \"labels_sta\")\n",
    "info_path=os.path.join(sta_dir, \"info.csv\")\n",
    "image_crop_dir = os.path.join(dataset_dir, 'images_crop')\n",
    "val_path = os.path.join(dataset_dir, 'val.txt')\n",
    "ref_split_class(ref_path=val_path,\n",
    "                info_path=info_path,\n",
    "                input_dir=image_crop_dir,\n",
    "                defect_list = defect_list,\n",
    "                level_list = level_list)\n"
   ],
   "outputs": [],
   "execution_count": null
  },
  {
   "cell_type": "code",
   "id": "bfd5b1f22057d664",
   "metadata": {},
   "source": [
    "dataset_dir = fuse_mseg_c6_update_dir\n",
    "sta_dir=os.path.join(dataset_dir, \"labels_sta\")\n",
    "info_path=os.path.join(sta_dir, \"info.csv\")\n",
    "image_crop_dir = os.path.join(dataset_dir, 'images_crop')\n",
    "val_path = os.path.join(dataset_dir, 'val.txt')\n",
    "ref_split_class(ref_path=val_path,\n",
    "                info_path=info_path,\n",
    "                input_dir=image_crop_dir,\n",
    "                defect_list = defect_list,\n",
    "                level_list = level_list)"
   ],
   "outputs": [],
   "execution_count": null
  },
  {
   "cell_type": "code",
   "id": "228f68a9a33ef80b",
   "metadata": {
    "ExecuteTime": {
     "end_time": "2025-06-17T12:35:40.383364Z",
     "start_time": "2025-06-17T12:35:31.664702Z"
    }
   },
   "source": [
    "predict_dir = r'/localnvme/project/ultralytics/runs/msegment/val168/labels'\n",
    "labels_dir = r'/localnvme/data/billboard/fused_data/data1361_mseg_c6_update/labels'\n",
    "labels_npy_dir = r'/localnvme/project/ultralytics/runs/msegment/val168/labels_npy'\n",
    "predict_npy_dir = r'/localnvme/project/ultralytics/runs/msegment/val168/predicts_npy'\n",
    "model_pred_compare(labels_dir, predict_dir, seg=True, with_conf=False, with_att=True, threshold=0.5, att_num=4,image_width=1, image_height=1, labels_npy_dir=labels_npy_dir, predict_npy_dir=predict_npy_dir)"
   ],
   "outputs": [
    {
     "name": "stderr",
     "output_type": "stream",
     "text": [
      "100%|██████████| 124/124 [00:08<00:00, 14.27it/s]"
     ]
    },
    {
     "name": "stdout",
     "output_type": "stream",
     "text": [
      "totally 379 box are counted\n"
     ]
    },
    {
     "name": "stderr",
     "output_type": "stream",
     "text": [
      "\n"
     ]
    }
   ],
   "execution_count": 17
  },
  {
   "metadata": {},
   "cell_type": "code",
   "source": [
    "image_dir = r'/localnvme/data/billboard/fused_data/data1361_mseg_c6_update/images'\n",
    "compare_dir = r'/localnvme/data/billboard/fused_data/data1361_mseg_c6_update/labels_pred_compare'\n",
    "output_dir = r'/localnvme/data/billboard/fused_data/data1361_mseg_c6_update/predict_val'\n",
    "select_by_predict(compare_dir, image_dir, output_dir,\n",
    "                  defect_list = defect_list,\n",
    "                  level_list = level_list)"
   ],
   "id": "7f43f8b1b6881742",
   "outputs": [],
   "execution_count": null
  }
 ],
 "metadata": {
  "kernelspec": {
   "display_name": "Python 3",
   "language": "python",
   "name": "python3"
  },
  "language_info": {
   "codemirror_mode": {
    "name": "ipython",
    "version": 2
   },
   "file_extension": ".py",
   "mimetype": "text/x-python",
   "name": "python",
   "nbconvert_exporter": "python",
   "pygments_lexer": "ipython2",
   "version": "2.7.6"
  }
 },
 "nbformat": 4,
 "nbformat_minor": 5
}
