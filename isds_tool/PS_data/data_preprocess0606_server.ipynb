{
 "cells": [
  {
   "cell_type": "code",
   "id": "initial_id",
   "metadata": {
    "collapsed": true,
    "ExecuteTime": {
     "end_time": "2025-06-09T07:48:47.352866Z",
     "start_time": "2025-06-09T07:48:46.561035Z"
    }
   },
   "source": [
    "import os\n",
    "from yolo_mask_crop import myolo_crop\n",
    "from llava_data_isds import find_with_defect, copy_mdet_by_llava, copy_images\n",
    "from yolo2xanylabeling import yolo_to_xanylabeling_dir\n",
    "from annotation_task import get_task_batch"
   ],
   "outputs": [],
   "execution_count": 1
  },
  {
   "metadata": {
    "ExecuteTime": {
     "end_time": "2025-06-09T07:48:47.367097Z",
     "start_time": "2025-06-09T07:48:47.361428Z"
    }
   },
   "cell_type": "code",
   "source": [
    "categories = ['wall frame', 'wall display', 'projecting frame', 'projecting display', 'hanging frame', 'hanging display', 'other']\n",
    "attributes = ['deformation', 'broken', 'abandonment', 'corrosion']\n",
    "\n",
    "root_dir = r'/data/huilin/data/isds/ps_data/0606'\n",
    "image_folder = os.path.join(root_dir, 'merge_dir')\n",
    "yolo_infer_folder = os.path.join(root_dir, 'merge_dir_seg_infer', 'labels')\n",
    "crop_folder = os.path.join(root_dir, 'merge_dir_crop')\n",
    "crop_map_path = os.path.join(root_dir, 'merge_dir_crop.json')\n",
    "crop_map_revert_path = os.path.join(root_dir, 'merge_dir_crop_revert.json')\n",
    "crop_infer_folder = os.path.join(root_dir, 'merge_dir_crop_risk_infer')\n",
    "caption_folder = os.path.join(root_dir, 'caption')\n",
    "llava_caption5_crop = os.path.join(caption_folder, 'signboard_caption5_crop.json')\n",
    "\n",
    "class_file = os.path.join(root_dir, 'class.txt')\n",
    "attribute_file = os.path.join(root_dir, 'attribute.yaml')\n",
    "\n",
    "pseudo_folder = os.path.join(root_dir, 'pseudo_data')\n",
    "pseudo_images_folder = os.path.join(pseudo_folder, 'images')\n",
    "pseudo_labels_folder = os.path.join(pseudo_folder, 'labels')\n",
    "pseudo_jsons_folder = os.path.join(pseudo_folder, 'json')\n",
    "pseudo_task_folder = os.path.join(root_dir, 'pseudo_data_task')"
   ],
   "id": "66b5e22e4f698f00",
   "outputs": [],
   "execution_count": 2
  },
  {
   "metadata": {
    "ExecuteTime": {
     "end_time": "2025-06-09T07:48:47.458258Z",
     "start_time": "2025-06-09T07:48:47.455916Z"
    }
   },
   "cell_type": "code",
   "source": [
    "# myolo_crop(image_folder, yolo_infer_folder, crop_folder, class_file,\n",
    "#            attribute_file=None, seg=True,\n",
    "#            save_method='all',\n",
    "#            crop_method='without_background_box_shape')"
   ],
   "id": "d0e10ae2b84e85fb",
   "outputs": [],
   "execution_count": 3
  },
  {
   "metadata": {
    "ExecuteTime": {
     "end_time": "2025-06-09T07:48:47.506777Z",
     "start_time": "2025-06-09T07:48:47.504209Z"
    }
   },
   "cell_type": "code",
   "source": "# find_with_defect(crop_infer_folder, crop_map_path)",
   "id": "818d8205f3067923",
   "outputs": [],
   "execution_count": 4
  },
  {
   "metadata": {
    "ExecuteTime": {
     "end_time": "2025-06-09T07:48:47.560453Z",
     "start_time": "2025-06-09T07:48:47.557597Z"
    }
   },
   "cell_type": "code",
   "source": "# copy_mdet_by_llava(yolo_infer_folder, crop_infer_folder, pseudo_labels_folder, crop_map_path, crop_map_revert_path)",
   "id": "f44345f212b34882",
   "outputs": [],
   "execution_count": 5
  },
  {
   "metadata": {
    "ExecuteTime": {
     "end_time": "2025-06-09T07:48:47.624811Z",
     "start_time": "2025-06-09T07:48:47.618822Z"
    }
   },
   "cell_type": "code",
   "source": "# copy_images(image_folder, pseudo_images_folder, pseudo_labels_folder)",
   "id": "157ccf562502b21e",
   "outputs": [],
   "execution_count": 6
  },
  {
   "metadata": {
    "ExecuteTime": {
     "end_time": "2025-06-09T07:48:47.685131Z",
     "start_time": "2025-06-09T07:48:47.679093Z"
    }
   },
   "cell_type": "code",
   "source": [
    "# yolo_to_xanylabeling_dir(\n",
    "#     pseudo_labels_folder,\n",
    "#     pseudo_images_folder,\n",
    "#     pseudo_jsons_folder,\n",
    "#     class_file,\n",
    "#     attribute_file)"
   ],
   "id": "96bd3d6b7a82cae5",
   "outputs": [],
   "execution_count": 7
  },
  {
   "metadata": {
    "ExecuteTime": {
     "end_time": "2025-06-09T07:48:47.922479Z",
     "start_time": "2025-06-09T07:48:47.818482Z"
    }
   },
   "cell_type": "code",
   "source": [
    "get_task_batch(\n",
    "    pseudo_images_folder,\n",
    "    pseudo_labels_folder,\n",
    "    pseudo_jsons_folder,\n",
    "    pseudo_task_folder,\n",
    "    class_file)"
   ],
   "id": "332e7953b8bab8e",
   "outputs": [
    {
     "name": "stdout",
     "output_type": "stream",
     "text": [
      "['/data/huilin/data/isds/ps_data/0606/pseudo_data_task_1/label', '/data/huilin/data/isds/ps_data/0606/pseudo_data_task_2/label']\n",
      "['/data/huilin/data/isds/ps_data/0606/pseudo_data_task_1/json', '/data/huilin/data/isds/ps_data/0606/pseudo_data_task_2/json']\n",
      "/data/huilin/data/isds/ps_data/0606/pseudo_data_task_1/json\n",
      "/data/huilin/data/isds/ps_data/0606/pseudo_data_task_2/json\n"
     ]
    },
    {
     "name": "stderr",
     "output_type": "stream",
     "text": [
      "100%|██████████| 59/59 [00:00<00:00, 690.56it/s]\n"
     ]
    }
   ],
   "execution_count": 8
  },
  {
   "metadata": {
    "ExecuteTime": {
     "end_time": "2025-06-09T07:48:48.001865Z",
     "start_time": "2025-06-09T07:48:47.997084Z"
    }
   },
   "cell_type": "code",
   "source": "",
   "id": "24e2d3239634359c",
   "outputs": [],
   "execution_count": null
  }
 ],
 "metadata": {
  "kernelspec": {
   "display_name": "Python 3",
   "language": "python",
   "name": "python3"
  },
  "language_info": {
   "codemirror_mode": {
    "name": "ipython",
    "version": 2
   },
   "file_extension": ".py",
   "mimetype": "text/x-python",
   "name": "python",
   "nbconvert_exporter": "python",
   "pygments_lexer": "ipython2",
   "version": "2.7.6"
  }
 },
 "nbformat": 4,
 "nbformat_minor": 5
}
