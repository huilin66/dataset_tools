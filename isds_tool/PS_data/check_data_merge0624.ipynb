{
 "cells": [
  {
   "metadata": {
    "ExecuteTime": {
     "end_time": "2025-06-24T07:39:12.743434Z",
     "start_time": "2025-06-24T07:39:12.725176Z"
    }
   },
   "cell_type": "code",
   "source": [
    "%load_ext autoreload\n",
    "%autoreload 2"
   ],
   "id": "27150aeaa28c8d69",
   "outputs": [],
   "execution_count": 1
  },
  {
   "metadata": {
    "ExecuteTime": {
     "end_time": "2025-06-24T07:39:13.736486Z",
     "start_time": "2025-06-24T07:39:12.868132Z"
    }
   },
   "cell_type": "code",
   "source": [
    "import os\n",
    "\n",
    "from yolo_tools import copy_dataset, ref_split\n",
    "from check_tools import update_check_result"
   ],
   "id": "c6cab7038e958cbd",
   "outputs": [],
   "execution_count": 2
  },
  {
   "metadata": {
    "ExecuteTime": {
     "end_time": "2025-06-24T07:40:11.400062Z",
     "start_time": "2025-06-24T07:40:11.383481Z"
    }
   },
   "cell_type": "code",
   "source": [
    "category_list = ['wall frame',\n",
    "                'wall display',\n",
    "                'projecting frame',\n",
    "                'projecting display',\n",
    "                'hanging frame',\n",
    "                'hanging display',\n",
    "                'other'\n",
    "                 ]\n",
    "defect_list = ['deformation', 'broken', 'abandonment', 'corrosion']\n",
    "level_list = ['no', 'medium', 'high']\n",
    "\n",
    "\n",
    "\n",
    "src_data_dir = r'/localnvme/data/billboard/bd_data/data626_mseg_c6_check0618'\n",
    "src_class_file = os.path.join(src_data_dir, 'class.txt')\n",
    "src_attribute_file = os.path.join(src_data_dir, 'attribute.yaml')\n",
    "src_labels_dir = os.path.join(src_data_dir, 'labels')\n",
    "\n",
    "dst_data_dir = r'/localnvme/data/billboard/bd_data/data626_mseg_c6_check0624'\n",
    "dst_labels_dir = os.path.join(dst_data_dir, 'labels')\n",
    "\n",
    "check_csv_path = os.path.join(dst_data_dir, 'info_BD_check_zys_result0624.xlsx')\n"
   ],
   "id": "initial_id",
   "outputs": [],
   "execution_count": 3
  },
  {
   "metadata": {
    "ExecuteTime": {
     "end_time": "2025-06-24T07:40:23.843064Z",
     "start_time": "2025-06-24T07:40:16.128490Z"
    }
   },
   "cell_type": "code",
   "source": "copy_dataset(src_data_dir, dst_data_dir,src_class_file, src_attribute_file)",
   "id": "993abbda302055d9",
   "outputs": [
    {
     "name": "stderr",
     "output_type": "stream",
     "text": [
      "100%|██████████| 626/626 [00:07<00:00, 81.42it/s] \n"
     ]
    }
   ],
   "execution_count": 4
  },
  {
   "metadata": {
    "ExecuteTime": {
     "end_time": "2025-06-24T07:47:05.122249Z",
     "start_time": "2025-06-24T07:46:59.382377Z"
    }
   },
   "cell_type": "code",
   "source": "update_check_result(src_labels_dir, dst_labels_dir, check_csv_path, category_list, defect_list, level_list)",
   "id": "51d77181426c70e3",
   "outputs": [
    {
     "name": "stderr",
     "output_type": "stream",
     "text": [
      "100%|██████████| 626/626 [00:04<00:00, 128.29it/s]\n"
     ]
    }
   ],
   "execution_count": 8
  },
  {
   "metadata": {
    "ExecuteTime": {
     "end_time": "2025-06-24T07:47:11.087944Z",
     "start_time": "2025-06-24T07:47:11.039710Z"
    }
   },
   "cell_type": "code",
   "source": [
    "ref_split(\n",
    "    ref_path = os.path.join(src_data_dir, 'val.txt'),\n",
    "    img_dir = os.path.join(dst_data_dir, 'images'),\n",
    "    label_dir = os.path.join(dst_data_dir, 'labels'),\n",
    "    add_suffix='',\n",
    ")"
   ],
   "id": "3290d96cfb6f68f5",
   "outputs": [
    {
     "name": "stderr",
     "output_type": "stream",
     "text": [
      "img check: 100%|██████████| 626/626 [00:00<00:00, 72128.85it/s]"
     ]
    },
    {
     "name": "stdout",
     "output_type": "stream",
     "text": [
      "563 save to /localnvme/data/billboard/bd_data/data626_mseg_c6_check0624/train.txt,\n",
      "63 save to /localnvme/data/billboard/bd_data/data626_mseg_c6_check0624/val.txt!\n"
     ]
    },
    {
     "name": "stderr",
     "output_type": "stream",
     "text": [
      "\n"
     ]
    }
   ],
   "execution_count": 9
  },
  {
   "metadata": {
    "ExecuteTime": {
     "end_time": "2025-06-24T07:48:33.804229Z",
     "start_time": "2025-06-24T07:48:33.786198Z"
    }
   },
   "cell_type": "code",
   "source": [
    "src_data_dir = r'/localnvme/data/billboard/ps_data/psdata735_mseg_c6_check0618'\n",
    "src_class_file = os.path.join(src_data_dir, 'class.txt')\n",
    "src_attribute_file = os.path.join(src_data_dir, 'attribute.yaml')\n",
    "src_labels_dir = os.path.join(src_data_dir, 'labels')\n",
    "\n",
    "dst_data_dir = r'/localnvme/data/billboard/ps_data/psdata735_mseg_c6_check0624/'\n",
    "dst_labels_dir = os.path.join(dst_data_dir, 'labels')\n",
    "\n",
    "check_csv_path = os.path.join(dst_data_dir, 'info_PS_check_tjl_result0624.xlsx')"
   ],
   "id": "cb0a24244b49113f",
   "outputs": [],
   "execution_count": 10
  },
  {
   "metadata": {
    "ExecuteTime": {
     "end_time": "2025-06-24T07:48:43.547395Z",
     "start_time": "2025-06-24T07:48:41.232792Z"
    }
   },
   "cell_type": "code",
   "source": "copy_dataset(src_data_dir, dst_data_dir,src_class_file, src_attribute_file)",
   "id": "633f3f844d3aa017",
   "outputs": [
    {
     "name": "stderr",
     "output_type": "stream",
     "text": [
      "100%|██████████| 735/735 [00:02<00:00, 320.17it/s]\n"
     ]
    }
   ],
   "execution_count": 11
  },
  {
   "metadata": {
    "ExecuteTime": {
     "end_time": "2025-06-24T07:52:24.464156Z",
     "start_time": "2025-06-24T07:52:19.121735Z"
    }
   },
   "cell_type": "code",
   "source": "update_check_result(src_labels_dir, dst_labels_dir, check_csv_path, category_list, defect_list, level_list)",
   "id": "a8fcb97c01ea0230",
   "outputs": [
    {
     "name": "stderr",
     "output_type": "stream",
     "text": [
      "100%|██████████| 735/735 [00:04<00:00, 162.54it/s]\n"
     ]
    }
   ],
   "execution_count": 14
  },
  {
   "metadata": {
    "ExecuteTime": {
     "end_time": "2025-06-24T07:52:26.479807Z",
     "start_time": "2025-06-24T07:52:26.429306Z"
    }
   },
   "cell_type": "code",
   "source": [
    "ref_split(\n",
    "    ref_path = os.path.join(src_data_dir, 'val.txt'),\n",
    "    img_dir = os.path.join(dst_data_dir, 'images'),\n",
    "    label_dir = os.path.join(dst_data_dir, 'labels'),\n",
    "    add_suffix='',\n",
    ")"
   ],
   "id": "858256b32da33ce5",
   "outputs": [
    {
     "name": "stderr",
     "output_type": "stream",
     "text": [
      "img check: 100%|██████████| 735/735 [00:00<00:00, 64319.08it/s]"
     ]
    },
    {
     "name": "stdout",
     "output_type": "stream",
     "text": [
      "660 save to /localnvme/data/billboard/ps_data/psdata735_mseg_c6_check0624/train.txt,\n",
      "75 save to /localnvme/data/billboard/ps_data/psdata735_mseg_c6_check0624/val.txt!\n"
     ]
    },
    {
     "name": "stderr",
     "output_type": "stream",
     "text": [
      "\n"
     ]
    }
   ],
   "execution_count": 15
  },
  {
   "metadata": {},
   "cell_type": "code",
   "outputs": [],
   "execution_count": null,
   "source": "",
   "id": "d5d840964f555464"
  }
 ],
 "metadata": {
  "kernelspec": {
   "display_name": "Python 3",
   "language": "python",
   "name": "python3"
  },
  "language_info": {
   "codemirror_mode": {
    "name": "ipython",
    "version": 2
   },
   "file_extension": ".py",
   "mimetype": "text/x-python",
   "name": "python",
   "nbconvert_exporter": "python",
   "pygments_lexer": "ipython2",
   "version": "2.7.6"
  }
 },
 "nbformat": 4,
 "nbformat_minor": 5
}
