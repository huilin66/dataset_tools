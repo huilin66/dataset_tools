{
 "cells": [
  {
   "metadata": {},
   "cell_type": "code",
   "source": [
    "%load_ext autoreload\n",
    "%autoreload 2"
   ],
   "id": "27150aeaa28c8d69",
   "outputs": [],
   "execution_count": null
  },
  {
   "metadata": {},
   "cell_type": "code",
   "source": [
    "import os\n",
    "\n",
    "from yolo_tools import copy_dataset, ref_split\n",
    "from check_tools import update_check_result"
   ],
   "id": "c6cab7038e958cbd",
   "outputs": [],
   "execution_count": null
  },
  {
   "metadata": {},
   "cell_type": "code",
   "source": [
    "category_list = ['wall frame',\n",
    "                'wall display',\n",
    "                'projecting frame',\n",
    "                'projecting display',\n",
    "                'hanging frame',\n",
    "                'hanging display',\n",
    "                'other'\n",
    "                 ]\n",
    "defect_list = ['deformation', 'broken', 'abandonment', 'corrosion']\n",
    "level_list = ['no', 'medium', 'high']\n",
    "\n",
    "\n",
    "# src_data_dir = r'/localnvme/data/billboard/ps_data/psdata735_mseg_c6'\n",
    "src_data_dir = r'/localnvme/data/billboard/bd_data/data626_mseg_c6'\n",
    "src_class_file = os.path.join(src_data_dir, 'class.txt')\n",
    "src_attribute_file = os.path.join(src_data_dir, 'attribute.yaml')\n",
    "src_labels_dir = os.path.join(src_data_dir, 'labels')\n",
    "\n",
    "# dst_data_dir = r'/localnvme/data/billboard/ps_data/psdata735_mseg_c6_check0618'\n",
    "dst_data_dir = r'/localnvme/data/billboard/bd_data/data626_mseg_c6_check0618'\n",
    "dst_labels_dir = os.path.join(dst_data_dir, 'labels')\n",
    "# check_csv_path = os.path.join(dst_data_dir, 'info_PS_check_zys_result0618.xlsx')\n",
    "check_csv_path = os.path.join(dst_data_dir, 'info_BD_check_tjl_result0618.xlsx')\n"
   ],
   "id": "initial_id",
   "outputs": [],
   "execution_count": null
  },
  {
   "metadata": {},
   "cell_type": "code",
   "source": "copy_dataset(src_data_dir, dst_data_dir,src_class_file, src_attribute_file)",
   "id": "993abbda302055d9",
   "outputs": [],
   "execution_count": null
  },
  {
   "metadata": {},
   "cell_type": "code",
   "source": "update_check_result(src_labels_dir, dst_labels_dir, check_csv_path, category_list, defect_list, level_list)",
   "id": "51d77181426c70e3",
   "outputs": [],
   "execution_count": null
  },
  {
   "metadata": {},
   "cell_type": "code",
   "source": [
    "ref_split(\n",
    "    ref_path = os.path.join(src_data_dir, 'val.txt'),\n",
    "    img_dir = os.path.join(dst_data_dir, 'images'),\n",
    "    label_dir = os.path.join(dst_data_dir, 'labels'),\n",
    "    add_suffix='',\n",
    ")"
   ],
   "id": "3290d96cfb6f68f5",
   "outputs": [],
   "execution_count": null
  },
  {
   "metadata": {},
   "cell_type": "code",
   "source": "",
   "id": "cb0a24244b49113f",
   "outputs": [],
   "execution_count": null
  }
 ],
 "metadata": {
  "kernelspec": {
   "display_name": "Python 3",
   "language": "python",
   "name": "python3"
  },
  "language_info": {
   "codemirror_mode": {
    "name": "ipython",
    "version": 2
   },
   "file_extension": ".py",
   "mimetype": "text/x-python",
   "name": "python",
   "nbconvert_exporter": "python",
   "pygments_lexer": "ipython2",
   "version": "2.7.6"
  }
 },
 "nbformat": 4,
 "nbformat_minor": 5
}
