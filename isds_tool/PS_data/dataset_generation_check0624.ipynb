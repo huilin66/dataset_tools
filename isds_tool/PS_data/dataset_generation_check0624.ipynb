{
 "cells": [
  {
   "cell_type": "code",
   "id": "d1495cf87afacd05",
   "metadata": {},
   "source": [
    "%load_ext autoreload\n",
    "%autoreload 2"
   ],
   "outputs": [],
   "execution_count": null
  },
  {
   "cell_type": "code",
   "id": "initial_id",
   "metadata": {
    "ExecuteTime": {
     "end_time": "2025-06-24T13:08:49.903627Z",
     "start_time": "2025-06-24T13:08:49.873216Z"
    }
   },
   "source": [
    "import os\n",
    "import shutil\n",
    "from yolo_tools import mseg_attribute_update_gt, data_merge, data_check, mseg2seg, ref_split\n",
    "\n",
    "from yolo_mask_crop import myolo_crop, myolo_crop_mp\n",
    "from classify_tools import ref_split_class\n",
    "from yolo_sta import yolo_sta\n",
    "from select_defect_data import obj_record, select_by_predict\n",
    "from yolo_result_analysis import model_pred_compare\n"
   ],
   "outputs": [],
   "execution_count": 26
  },
  {
   "metadata": {},
   "cell_type": "code",
   "source": [
    "defect_list = ['deformation', 'broken', 'abandonment', 'corrosion']\n",
    "level_list = ['no', 'medium', 'high']\n",
    "\n",
    "ps_mseg_c6_dir = r'/localnvme/data/billboard/ps_data/psdata735_mseg_c6_check0624'\n",
    "bd_mseg_c6_dir = r'/localnvme/data/billboard/bd_data/data626_mseg_c6_check0624'\n",
    "fuse_mseg_c6_dir = r'/localnvme/data/billboard/fused_data/data1361_mseg_c6_check0624'\n",
    "fuse_seg_c6_dir = r'/localnvme/data/billboard/fused_data/data1361_seg_c6_check0624'"
   ],
   "id": "6db59f197f8866c9",
   "outputs": [],
   "execution_count": null
  },
  {
   "metadata": {},
   "cell_type": "code",
   "source": [
    "mseg_attribute_update_gt(\n",
    "    os.path.join(ps_mseg_c6_dir, 'labels'),\n",
    "    os.path.join(ps_mseg_c6_dir, 'labels'),\n",
    ")"
   ],
   "id": "4dec0aaf2241b43e",
   "outputs": [],
   "execution_count": null
  },
  {
   "cell_type": "code",
   "id": "6080fbbe03de1f22",
   "metadata": {},
   "source": [
    "attribute_path = os.path.join(bd_mseg_c6_dir, 'attribute.yaml')\n",
    "check_result_ps1 = data_check(ps_mseg_c6_dir, mdet=True, attribute_path=attribute_path)\n",
    "check_result_bd1 = data_check(bd_mseg_c6_dir, mdet=True, attribute_path=attribute_path)\n",
    "check_result_ps2 = data_check(ps_mseg_c6_dir, mdet=True, attribute_path=attribute_path, check_item='attribute')\n",
    "check_result_bd2 = data_check(bd_mseg_c6_dir, mdet=True, attribute_path=attribute_path, check_item='attribute')\n",
    "\n",
    "if len(check_result_ps1+check_result_bd1 + check_result_ps2+check_result_bd2) == 0:\n",
    "    data_merge(ps_mseg_c6_dir,\n",
    "               bd_mseg_c6_dir,\n",
    "               fuse_mseg_c6_dir)\n",
    "    shutil.copy2(\n",
    "        os.path.join(bd_mseg_c6_dir, 'class.txt'),\n",
    "        os.path.join(fuse_mseg_c6_dir, 'class.txt'),\n",
    "    )\n",
    "    shutil.copy2(\n",
    "        os.path.join(bd_mseg_c6_dir, 'attribute.yaml'),\n",
    "        os.path.join(fuse_mseg_c6_dir, 'attribute.yaml'),\n",
    "    )\n",
    "else:\n",
    "    print(f'find {check_result_ps1} and {check_result_bd1}')\n",
    "    print(f'find {check_result_ps2} and {check_result_bd2}')"
   ],
   "outputs": [],
   "execution_count": null
  },
  {
   "cell_type": "code",
   "id": "4bd4c0a2403f21b4",
   "metadata": {},
   "source": [
    "dataset_dir = fuse_mseg_c6_dir\n",
    "image_dir = os.path.join(dataset_dir, 'images')\n",
    "labels_dir = os.path.join(dataset_dir, 'labels')\n",
    "class_file = os.path.join(dataset_dir, 'class.txt')\n",
    "attribute_file = os.path.join(dataset_dir, 'attribute.yaml')\n",
    "\n",
    "image_crop_dir = os.path.join(dataset_dir, 'images_crop_box')\n",
    "sta_dir=os.path.join(dataset_dir, \"labels_sta\")\n",
    "obj2img_path=os.path.join(dataset_dir, \"images_crop.json\")\n",
    "sta_att_path=os.path.join(sta_dir, \"sta_attribute.csv\")\n",
    "box_path=os.path.join(sta_dir, \"sta_box.csv\")\n",
    "info_path=os.path.join(sta_dir, \"info.csv\")\n",
    "\n",
    "# myolo_crop(image_dir, labels_dir, image_crop_dir, class_file,\n",
    "#            attribute_file=attribute_file, seg=True, annotation=True,\n",
    "#            save_method='attribute',\n",
    "#            crop_method='without_background_box_shape')\n",
    "\n",
    "myolo_crop_mp(image_dir, labels_dir, image_crop_dir, class_file,\n",
    "           attribute_file=attribute_file, seg=True, annotation=True,\n",
    "           save_method='attribute',\n",
    "           crop_method='without_background_box_shape')"
   ],
   "outputs": [],
   "execution_count": null
  },
  {
   "cell_type": "code",
   "id": "1b778e7a77ee73b4",
   "metadata": {},
   "source": [
    "yolo_sta(\n",
    "    img_dir=None,\n",
    "    gt_dir=labels_dir,\n",
    "    result_dir=sta_dir,\n",
    "    class_path=class_file,\n",
    "    attribute_path=attribute_path,\n",
    "    seg=True,\n",
    ")"
   ],
   "outputs": [],
   "execution_count": null
  },
  {
   "cell_type": "code",
   "id": "4b60e29401bbc2a0",
   "metadata": {},
   "source": [
    "obj_record(sta_att_path, box_path, obj2img_path, info_path)"
   ],
   "outputs": [],
   "execution_count": null
  },
  {
   "metadata": {},
   "cell_type": "code",
   "source": [
    "dataset_dir = fuse_mseg_c6_dir\n",
    "sta_dir=os.path.join(dataset_dir, \"labels_sta\")\n",
    "info_path=os.path.join(sta_dir, \"info.csv\")\n",
    "image_crop_dir = os.path.join(dataset_dir, 'images_crop')\n",
    "val_path = os.path.join(dataset_dir, 'val.txt')\n",
    "\n",
    "ref_split_class(ref_path=val_path,\n",
    "                info_path=info_path,\n",
    "                input_dir=image_crop_dir,\n",
    "                defect_list = defect_list,\n",
    "                level_list = level_list)\n"
   ],
   "id": "9394dcabfe5c9b03",
   "outputs": [],
   "execution_count": null
  },
  {
   "cell_type": "code",
   "id": "228f68a9a33ef80b",
   "metadata": {},
   "source": [
    "data_dir = r'/localnvme/data/billboard/fused_data/data1361_mseg_c6'\n",
    "labels_dir = os.path.join(data_dir, 'labels')\n",
    "images_dir = os.path.join(data_dir, 'images')\n",
    "cls_val_dir = os.path.join(data_dir, 'cls_val207')\n",
    "val_dir = os.path.join(r'/localnvme/project/ultralytics/runs/msegment', 'val207')\n",
    "predict_dir = os.path.join(val_dir, 'labels')\n",
    "labels_npy_dir = os.path.join(val_dir, 'labels_npy')\n",
    "predict_npy_dir = os.path.join(val_dir, 'predicts_npy')\n",
    "compare_dir = predict_dir+'val207_compare'"
   ],
   "outputs": [],
   "execution_count": null
  },
  {
   "metadata": {},
   "cell_type": "code",
   "source": "model_pred_compare(labels_dir, predict_dir, save_dir=compare_dir, seg=True, with_conf=False, with_att=True, threshold=0.5, att_num=4, image_width=1, image_height=1, labels_npy_dir=labels_npy_dir, predict_npy_dir=predict_npy_dir)",
   "id": "20d8f15b45664f60",
   "outputs": [],
   "execution_count": null
  },
  {
   "metadata": {},
   "cell_type": "code",
   "source": [
    "select_by_predict(compare_dir, images_dir, cls_val_dir,\n",
    "                  defect_list = defect_list,\n",
    "                  level_list = level_list)"
   ],
   "id": "7f43f8b1b6881742",
   "outputs": [],
   "execution_count": null
  },
  {
   "metadata": {},
   "cell_type": "code",
   "source": [
    "data_dir = r'/localnvme/data/billboard/fused_data/data1361_mseg_c6_check0618'\n",
    "labels_dir = os.path.join(data_dir, 'labels')\n",
    "images_dir = os.path.join(data_dir, 'images')\n",
    "cls_val_dir = os.path.join(data_dir, 'cls_val208')\n",
    "val_dir = os.path.join(r'/localnvme/project/ultralytics/runs/msegment', 'val208')\n",
    "predict_dir = os.path.join(val_dir, 'labels')\n",
    "labels_npy_dir = os.path.join(val_dir, 'labels_npy')\n",
    "predict_npy_dir = os.path.join(val_dir, 'predicts_npy')\n",
    "compare_dir = predict_dir+'val208_compare'"
   ],
   "id": "5ff8d3cfb5c353af",
   "outputs": [],
   "execution_count": null
  },
  {
   "metadata": {},
   "cell_type": "code",
   "source": "model_pred_compare(labels_dir, predict_dir, save_dir=compare_dir, seg=True, with_conf=False, with_att=True, threshold=0.5, att_num=4, image_width=1, image_height=1, labels_npy_dir=labels_npy_dir, predict_npy_dir=predict_npy_dir)",
   "id": "8d32fa99ada21dc",
   "outputs": [],
   "execution_count": null
  },
  {
   "metadata": {},
   "cell_type": "code",
   "source": [
    "select_by_predict(compare_dir, images_dir, cls_val_dir,\n",
    "                  defect_list = defect_list,\n",
    "                  level_list = level_list)"
   ],
   "id": "5a93066d73babf5",
   "outputs": [],
   "execution_count": null
  },
  {
   "metadata": {},
   "cell_type": "code",
   "source": "mseg2seg(fuse_mseg_c6_dir, fuse_seg_c6_dir)",
   "id": "5f2810bc28db3a8",
   "outputs": [],
   "execution_count": null
  },
  {
   "metadata": {
    "ExecuteTime": {
     "end_time": "2025-06-24T13:10:20.395110Z",
     "start_time": "2025-06-24T13:10:20.331745Z"
    }
   },
   "cell_type": "code",
   "source": [
    "ref_split(\n",
    "    ref_path = os.path.join(fuse_mseg_c6_dir, 'val.txt'),\n",
    "    img_dir = os.path.join(fuse_seg_c6_dir, 'images'),\n",
    "    label_dir = os.path.join(fuse_seg_c6_dir, 'labels'),\n",
    "    add_suffix='',\n",
    ")"
   ],
   "id": "239ac03fffafb543",
   "outputs": [
    {
     "name": "stderr",
     "output_type": "stream",
     "text": [
      "img check: 100%|██████████| 1361/1361 [00:00<00:00, 78984.51it/s]"
     ]
    },
    {
     "name": "stdout",
     "output_type": "stream",
     "text": [
      "1223 save to /localnvme/data/billboard/fused_data/data1361_seg_c6_check0624/train.txt,\n",
      "138 save to /localnvme/data/billboard/fused_data/data1361_seg_c6_check0624/val.txt!\n"
     ]
    },
    {
     "name": "stderr",
     "output_type": "stream",
     "text": [
      "\n"
     ]
    }
   ],
   "execution_count": 27
  },
  {
   "metadata": {},
   "cell_type": "code",
   "outputs": [],
   "execution_count": null,
   "source": "",
   "id": "2e54d3026caf6d4e"
  }
 ],
 "metadata": {
  "kernelspec": {
   "display_name": "Python 3",
   "language": "python",
   "name": "python3"
  },
  "language_info": {
   "codemirror_mode": {
    "name": "ipython",
    "version": 2
   },
   "file_extension": ".py",
   "mimetype": "text/x-python",
   "name": "python",
   "nbconvert_exporter": "python",
   "pygments_lexer": "ipython2",
   "version": "2.7.6"
  }
 },
 "nbformat": 4,
 "nbformat_minor": 5
}
